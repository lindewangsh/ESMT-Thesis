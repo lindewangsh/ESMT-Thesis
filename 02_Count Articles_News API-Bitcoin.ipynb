{
 "cells": [
  {
   "cell_type": "code",
   "execution_count": 1,
   "id": "f117bc64",
   "metadata": {},
   "outputs": [
    {
     "name": "stdout",
     "output_type": "stream",
     "text": [
      "Total Articles: 486\n"
     ]
    }
   ],
   "source": [
    "from newsapi import NewsApiClient\n",
    "import pprint\n",
    "pp = pprint.PrettyPrinter(indent=4)\n",
    "\n",
    "\n",
    "# Initialize API\n",
    "newsapi = NewsApiClient(api_key='KEY_GOES_HERE')\n",
    "\n",
    "\n",
    "# CHANGE KEYWORD OR DATE HERE\n",
    "# CHANGE KEYWORD OR DATE HERE\n",
    "# CHANGE KEYWORD OR DATE HERE\n",
    "all_articles = newsapi.get_everything(q='bitcoin',\n",
    "                                      from_param='2021-04-30',\n",
    "                                      to='2021-05-01',\n",
    "                                      language='en')\n",
    "\n",
    "# Print count of articles\n",
    "print(\"Total Articles:\", all_articles['totalResults'])"
   ]
  },
  {
   "cell_type": "code",
   "execution_count": 2,
   "id": "964d1a9b",
   "metadata": {},
   "outputs": [
    {
     "name": "stdout",
     "output_type": "stream",
     "text": [
      "Total Articles: 245\n"
     ]
    }
   ],
   "source": [
    "from newsapi import NewsApiClient\n",
    "import pprint\n",
    "pp = pprint.PrettyPrinter(indent=4)\n",
    "\n",
    "\n",
    "# Initialize API\n",
    "newsapi = NewsApiClient(api_key='KEY_GOES_HERE')\n",
    "\n",
    "\n",
    "# CHANGE KEYWORD OR DATE HERE\n",
    "# CHANGE KEYWORD OR DATE HERE\n",
    "# CHANGE KEYWORD OR DATE HERE\n",
    "all_articles = newsapi.get_everything(q='bitcoin',\n",
    "                                      from_param='2021-05-01',\n",
    "                                      to='2021-05-02',\n",
    "                                      language='en')\n",
    "\n",
    "# Print count of articles\n",
    "print(\"Total Articles:\", all_articles['totalResults'])"
   ]
  },
  {
   "cell_type": "code",
   "execution_count": 3,
   "id": "a418bf7e",
   "metadata": {},
   "outputs": [
    {
     "name": "stdout",
     "output_type": "stream",
     "text": [
      "Total Articles: 591\n"
     ]
    }
   ],
   "source": [
    "from newsapi import NewsApiClient\n",
    "import pprint\n",
    "pp = pprint.PrettyPrinter(indent=4)\n",
    "\n",
    "\n",
    "# Initialize API\n",
    "newsapi = NewsApiClient(api_key='KEY_GOES_HERE')\n",
    "\n",
    "\n",
    "# CHANGE KEYWORD OR DATE HERE\n",
    "# CHANGE KEYWORD OR DATE HERE\n",
    "# CHANGE KEYWORD OR DATE HERE\n",
    "all_articles = newsapi.get_everything(q='bitcoin',\n",
    "                                      from_param='2021-05-02',\n",
    "                                      to='2021-05-03',\n",
    "                                      language='en')\n",
    "\n",
    "# Print count of articles\n",
    "print(\"Total Articles:\", all_articles['totalResults'])"
   ]
  },
  {
   "cell_type": "code",
   "execution_count": 4,
   "id": "dda4c56c",
   "metadata": {},
   "outputs": [
    {
     "name": "stdout",
     "output_type": "stream",
     "text": [
      "Total Articles: 1350\n"
     ]
    }
   ],
   "source": [
    "from newsapi import NewsApiClient\n",
    "import pprint\n",
    "pp = pprint.PrettyPrinter(indent=4)\n",
    "\n",
    "\n",
    "# Initialize API\n",
    "newsapi = NewsApiClient(api_key='KEY_GOES_HERE')\n",
    "\n",
    "\n",
    "# CHANGE KEYWORD OR DATE HERE\n",
    "# CHANGE KEYWORD OR DATE HERE\n",
    "# CHANGE KEYWORD OR DATE HERE\n",
    "all_articles = newsapi.get_everything(q='bitcoin',\n",
    "                                      from_param='2021-05-03',\n",
    "                                      to='2021-05-04',\n",
    "                                      language='en')\n",
    "\n",
    "# Print count of articles\n",
    "print(\"Total Articles:\", all_articles['totalResults'])"
   ]
  },
  {
   "cell_type": "code",
   "execution_count": 5,
   "id": "b8d7b4be",
   "metadata": {},
   "outputs": [
    {
     "name": "stdout",
     "output_type": "stream",
     "text": [
      "Total Articles: 1203\n"
     ]
    }
   ],
   "source": [
    "from newsapi import NewsApiClient\n",
    "import pprint\n",
    "pp = pprint.PrettyPrinter(indent=4)\n",
    "\n",
    "\n",
    "# Initialize API\n",
    "newsapi = NewsApiClient(api_key='KEY_GOES_HERE')\n",
    "\n",
    "\n",
    "# CHANGE KEYWORD OR DATE HERE\n",
    "# CHANGE KEYWORD OR DATE HERE\n",
    "# CHANGE KEYWORD OR DATE HERE\n",
    "all_articles = newsapi.get_everything(q='bitcoin',\n",
    "                                      from_param='2021-05-04',\n",
    "                                      to='2021-05-05',\n",
    "                                      language='en')\n",
    "\n",
    "# Print count of articles\n",
    "print(\"Total Articles:\", all_articles['totalResults'])"
   ]
  },
  {
   "cell_type": "code",
   "execution_count": 6,
   "id": "5a41280d",
   "metadata": {},
   "outputs": [
    {
     "name": "stdout",
     "output_type": "stream",
     "text": [
      "Total Articles: 637\n"
     ]
    }
   ],
   "source": [
    "from newsapi import NewsApiClient\n",
    "import pprint\n",
    "pp = pprint.PrettyPrinter(indent=4)\n",
    "\n",
    "\n",
    "# Initialize API\n",
    "newsapi = NewsApiClient(api_key='KEY_GOES_HERE')\n",
    "\n",
    "\n",
    "# CHANGE KEYWORD OR DATE HERE\n",
    "# CHANGE KEYWORD OR DATE HERE\n",
    "# CHANGE KEYWORD OR DATE HERE\n",
    "all_articles = newsapi.get_everything(q='bitcoin',\n",
    "                                      from_param='2021-05-05',\n",
    "                                      to='2021-05-06',\n",
    "                                      language='en')\n",
    "\n",
    "# Print count of articles\n",
    "print(\"Total Articles:\", all_articles['totalResults'])"
   ]
  },
  {
   "cell_type": "code",
   "execution_count": 7,
   "id": "5c580c3f",
   "metadata": {},
   "outputs": [
    {
     "name": "stdout",
     "output_type": "stream",
     "text": [
      "Total Articles: 598\n"
     ]
    }
   ],
   "source": [
    "from newsapi import NewsApiClient\n",
    "import pprint\n",
    "pp = pprint.PrettyPrinter(indent=4)\n",
    "\n",
    "\n",
    "# Initialize API\n",
    "newsapi = NewsApiClient(api_key='KEY_GOES_HERE')\n",
    "\n",
    "\n",
    "# CHANGE KEYWORD OR DATE HERE\n",
    "# CHANGE KEYWORD OR DATE HERE\n",
    "# CHANGE KEYWORD OR DATE HERE\n",
    "all_articles = newsapi.get_everything(q='bitcoin',\n",
    "                                      from_param='2021-05-06',\n",
    "                                      to='2021-05-07',\n",
    "                                      language='en')\n",
    "\n",
    "# Print count of articles\n",
    "print(\"Total Articles:\", all_articles['totalResults'])"
   ]
  },
  {
   "cell_type": "code",
   "execution_count": 8,
   "id": "a3e6fc56",
   "metadata": {},
   "outputs": [
    {
     "name": "stdout",
     "output_type": "stream",
     "text": [
      "Total Articles: 414\n"
     ]
    }
   ],
   "source": [
    "from newsapi import NewsApiClient\n",
    "import pprint\n",
    "pp = pprint.PrettyPrinter(indent=4)\n",
    "\n",
    "\n",
    "# Initialize API\n",
    "newsapi = NewsApiClient(api_key='KEY_GOES_HERE')\n",
    "\n",
    "\n",
    "# CHANGE KEYWORD OR DATE HERE\n",
    "# CHANGE KEYWORD OR DATE HERE\n",
    "# CHANGE KEYWORD OR DATE HERE\n",
    "all_articles = newsapi.get_everything(q='bitcoin',\n",
    "                                      from_param='2021-05-07',\n",
    "                                      to='2021-05-08',\n",
    "                                      language='en')\n",
    "\n",
    "# Print count of articles\n",
    "print(\"Total Articles:\", all_articles['totalResults'])"
   ]
  },
  {
   "cell_type": "code",
   "execution_count": 9,
   "id": "94c8fa3d",
   "metadata": {},
   "outputs": [
    {
     "name": "stdout",
     "output_type": "stream",
     "text": [
      "Total Articles: 255\n"
     ]
    }
   ],
   "source": [
    "from newsapi import NewsApiClient\n",
    "import pprint\n",
    "pp = pprint.PrettyPrinter(indent=4)\n",
    "\n",
    "\n",
    "# Initialize API\n",
    "newsapi = NewsApiClient(api_key='KEY_GOES_HERE')\n",
    "\n",
    "\n",
    "# CHANGE KEYWORD OR DATE HERE\n",
    "# CHANGE KEYWORD OR DATE HERE\n",
    "# CHANGE KEYWORD OR DATE HERE\n",
    "all_articles = newsapi.get_everything(q='bitcoin',\n",
    "                                      from_param='2021-05-08',\n",
    "                                      to='2021-05-09',\n",
    "                                      language='en')\n",
    "\n",
    "# Print count of articles\n",
    "print(\"Total Articles:\", all_articles['totalResults'])"
   ]
  },
  {
   "cell_type": "code",
   "execution_count": 10,
   "id": "1d0bb8e6",
   "metadata": {},
   "outputs": [
    {
     "name": "stdout",
     "output_type": "stream",
     "text": [
      "Total Articles: 488\n"
     ]
    }
   ],
   "source": [
    "from newsapi import NewsApiClient\n",
    "import pprint\n",
    "pp = pprint.PrettyPrinter(indent=4)\n",
    "\n",
    "\n",
    "# Initialize API\n",
    "newsapi = NewsApiClient(api_key='KEY_GOES_HERE')\n",
    "\n",
    "\n",
    "# CHANGE KEYWORD OR DATE HERE\n",
    "# CHANGE KEYWORD OR DATE HERE\n",
    "# CHANGE KEYWORD OR DATE HERE\n",
    "all_articles = newsapi.get_everything(q='bitcoin',\n",
    "                                      from_param='2021-05-09',\n",
    "                                      to='2021-05-10',\n",
    "                                      language='en')\n",
    "\n",
    "# Print count of articles\n",
    "print(\"Total Articles:\", all_articles['totalResults'])"
   ]
  },
  {
   "cell_type": "code",
   "execution_count": 11,
   "id": "8b0b26c7",
   "metadata": {},
   "outputs": [
    {
     "name": "stdout",
     "output_type": "stream",
     "text": [
      "Total Articles: 708\n"
     ]
    }
   ],
   "source": [
    "from newsapi import NewsApiClient\n",
    "import pprint\n",
    "pp = pprint.PrettyPrinter(indent=4)\n",
    "\n",
    "\n",
    "# Initialize API\n",
    "newsapi = NewsApiClient(api_key='KEY_GOES_HERE')\n",
    "\n",
    "\n",
    "# CHANGE KEYWORD OR DATE HERE\n",
    "# CHANGE KEYWORD OR DATE HERE\n",
    "# CHANGE KEYWORD OR DATE HERE\n",
    "all_articles = newsapi.get_everything(q='bitcoin',\n",
    "                                      from_param='2021-05-10',\n",
    "                                      to='2021-05-11',\n",
    "                                      language='en')\n",
    "\n",
    "# Print count of articles\n",
    "print(\"Total Articles:\", all_articles['totalResults'])"
   ]
  },
  {
   "cell_type": "code",
   "execution_count": 12,
   "id": "f06568f0",
   "metadata": {},
   "outputs": [
    {
     "name": "stdout",
     "output_type": "stream",
     "text": [
      "Total Articles: 829\n"
     ]
    }
   ],
   "source": [
    "from newsapi import NewsApiClient\n",
    "import pprint\n",
    "pp = pprint.PrettyPrinter(indent=4)\n",
    "\n",
    "\n",
    "# Initialize API\n",
    "newsapi = NewsApiClient(api_key='KEY_GOES_HERE')\n",
    "\n",
    "\n",
    "# CHANGE KEYWORD OR DATE HERE\n",
    "# CHANGE KEYWORD OR DATE HERE\n",
    "# CHANGE KEYWORD OR DATE HERE\n",
    "all_articles = newsapi.get_everything(q='bitcoin',\n",
    "                                      from_param='2021-05-11',\n",
    "                                      to='2021-05-12',\n",
    "                                      language='en')\n",
    "\n",
    "# Print count of articles\n",
    "print(\"Total Articles:\", all_articles['totalResults'])"
   ]
  },
  {
   "cell_type": "code",
   "execution_count": 13,
   "id": "15904a87",
   "metadata": {},
   "outputs": [
    {
     "name": "stdout",
     "output_type": "stream",
     "text": [
      "Total Articles: 1229\n"
     ]
    }
   ],
   "source": [
    "from newsapi import NewsApiClient\n",
    "import pprint\n",
    "pp = pprint.PrettyPrinter(indent=4)\n",
    "\n",
    "\n",
    "# Initialize API\n",
    "newsapi = NewsApiClient(api_key='KEY_GOES_HERE')\n",
    "\n",
    "\n",
    "# CHANGE KEYWORD OR DATE HERE\n",
    "# CHANGE KEYWORD OR DATE HERE\n",
    "# CHANGE KEYWORD OR DATE HERE\n",
    "all_articles = newsapi.get_everything(q='bitcoin',\n",
    "                                      from_param='2021-05-12',\n",
    "                                      to='2021-05-13',\n",
    "                                      language='en')\n",
    "\n",
    "# Print count of articles\n",
    "print(\"Total Articles:\", all_articles['totalResults'])"
   ]
  },
  {
   "cell_type": "code",
   "execution_count": 14,
   "id": "5fd84eec",
   "metadata": {},
   "outputs": [
    {
     "name": "stdout",
     "output_type": "stream",
     "text": [
      "Total Articles: 1287\n"
     ]
    }
   ],
   "source": [
    "from newsapi import NewsApiClient\n",
    "import pprint\n",
    "pp = pprint.PrettyPrinter(indent=4)\n",
    "\n",
    "\n",
    "# Initialize API\n",
    "newsapi = NewsApiClient(api_key='KEY_GOES_HERE')\n",
    "\n",
    "\n",
    "# CHANGE KEYWORD OR DATE HERE\n",
    "# CHANGE KEYWORD OR DATE HERE\n",
    "# CHANGE KEYWORD OR DATE HERE\n",
    "all_articles = newsapi.get_everything(q='bitcoin',\n",
    "                                      from_param='2021-05-13',\n",
    "                                      to='2021-05-14',\n",
    "                                      language='en')\n",
    "\n",
    "# Print count of articles\n",
    "print(\"Total Articles:\", all_articles['totalResults'])"
   ]
  },
  {
   "cell_type": "code",
   "execution_count": 7,
   "id": "93ba2749",
   "metadata": {},
   "outputs": [
    {
     "name": "stdout",
     "output_type": "stream",
     "text": [
      "Total Articles: 709\n"
     ]
    }
   ],
   "source": [
    "from newsapi import NewsApiClient\n",
    "import pprint\n",
    "pp = pprint.PrettyPrinter(indent=4)\n",
    "\n",
    "\n",
    "# Initialize API\n",
    "newsapi = NewsApiClient(api_key='KEY_GOES_HERE')\n",
    "\n",
    "\n",
    "# CHANGE KEYWORD OR DATE HERE\n",
    "# CHANGE KEYWORD OR DATE HERE\n",
    "# CHANGE KEYWORD OR DATE HERE\n",
    "all_articles = newsapi.get_everything(q='bitcoin',\n",
    "                                      from_param='2021-05-14',\n",
    "                                      to='2021-05-15',\n",
    "                                      language='en')\n",
    "\n",
    "# Print count of articles\n",
    "print(\"Total Articles:\", all_articles['totalResults'])"
   ]
  },
  {
   "cell_type": "code",
   "execution_count": 8,
   "id": "4ba1d28d",
   "metadata": {},
   "outputs": [
    {
     "name": "stdout",
     "output_type": "stream",
     "text": [
      "Total Articles: 333\n"
     ]
    }
   ],
   "source": [
    "from newsapi import NewsApiClient\n",
    "import pprint\n",
    "pp = pprint.PrettyPrinter(indent=4)\n",
    "\n",
    "\n",
    "# Initialize API\n",
    "newsapi = NewsApiClient(api_key='KEY_GOES_HERE')\n",
    "\n",
    "\n",
    "# CHANGE KEYWORD OR DATE HERE\n",
    "# CHANGE KEYWORD OR DATE HERE\n",
    "# CHANGE KEYWORD OR DATE HERE\n",
    "all_articles = newsapi.get_everything(q='bitcoin',\n",
    "                                      from_param='2021-05-15',\n",
    "                                      to='2021-05-16',\n",
    "                                      language='en')\n",
    "\n",
    "# Print count of articles\n",
    "print(\"Total Articles:\", all_articles['totalResults'])"
   ]
  },
  {
   "cell_type": "code",
   "execution_count": 9,
   "id": "9d9558c9",
   "metadata": {},
   "outputs": [
    {
     "name": "stdout",
     "output_type": "stream",
     "text": [
      "Total Articles: 706\n"
     ]
    }
   ],
   "source": [
    "from newsapi import NewsApiClient\n",
    "import pprint\n",
    "pp = pprint.PrettyPrinter(indent=4)\n",
    "\n",
    "\n",
    "# Initialize API\n",
    "newsapi = NewsApiClient(api_key='KEY_GOES_HERE')\n",
    "\n",
    "\n",
    "# CHANGE KEYWORD OR DATE HERE\n",
    "# CHANGE KEYWORD OR DATE HERE\n",
    "# CHANGE KEYWORD OR DATE HERE\n",
    "all_articles = newsapi.get_everything(q='bitcoin',\n",
    "                                      from_param='2021-05-16',\n",
    "                                      to='2021-05-17',\n",
    "                                      language='en')\n",
    "\n",
    "# Print count of articles\n",
    "print(\"Total Articles:\", all_articles['totalResults'])"
   ]
  },
  {
   "cell_type": "code",
   "execution_count": 8,
   "id": "fa089784",
   "metadata": {},
   "outputs": [
    {
     "name": "stdout",
     "output_type": "stream",
     "text": [
      "Total Articles: 1045\n"
     ]
    }
   ],
   "source": [
    "from newsapi import NewsApiClient\n",
    "import pprint\n",
    "pp = pprint.PrettyPrinter(indent=4)\n",
    "\n",
    "\n",
    "# Initialize API\n",
    "newsapi = NewsApiClient(api_key='KEY_GOES_HERE')\n",
    "\n",
    "\n",
    "# CHANGE KEYWORD OR DATE HERE\n",
    "# CHANGE KEYWORD OR DATE HERE\n",
    "# CHANGE KEYWORD OR DATE HERE\n",
    "all_articles = newsapi.get_everything(q='bitcoin',\n",
    "                                      from_param='2021-05-17',\n",
    "                                      to='2021-05-18',\n",
    "                                      language='en')\n",
    "\n",
    "# Print count of articles\n",
    "print(\"Total Articles:\", all_articles['totalResults'])"
   ]
  },
  {
   "cell_type": "code",
   "execution_count": 7,
   "id": "e8737c77",
   "metadata": {},
   "outputs": [
    {
     "name": "stdout",
     "output_type": "stream",
     "text": [
      "Total Articles: 1362\n"
     ]
    }
   ],
   "source": [
    "from newsapi import NewsApiClient\n",
    "import pprint\n",
    "pp = pprint.PrettyPrinter(indent=4)\n",
    "\n",
    "\n",
    "# Initialize API\n",
    "newsapi = NewsApiClient(api_key='KEY_GOES_HERE')\n",
    "\n",
    "\n",
    "# CHANGE KEYWORD OR DATE HERE\n",
    "# CHANGE KEYWORD OR DATE HERE\n",
    "# CHANGE KEYWORD OR DATE HERE\n",
    "all_articles = newsapi.get_everything(q='bitcoin',\n",
    "                                      from_param='2021-05-18',\n",
    "                                      to='2021-05-19',\n",
    "                                      language='en')\n",
    "\n",
    "# Print count of articles\n",
    "print(\"Total Articles:\", all_articles['totalResults'])"
   ]
  },
  {
   "cell_type": "code",
   "execution_count": 6,
   "id": "f6800d6f",
   "metadata": {},
   "outputs": [
    {
     "name": "stdout",
     "output_type": "stream",
     "text": [
      "Total Articles: 1571\n"
     ]
    }
   ],
   "source": [
    "from newsapi import NewsApiClient\n",
    "import pprint\n",
    "pp = pprint.PrettyPrinter(indent=4)\n",
    "\n",
    "\n",
    "# Initialize API\n",
    "newsapi = NewsApiClient(api_key='KEY_GOES_HERE')\n",
    "\n",
    "\n",
    "# CHANGE KEYWORD OR DATE HERE\n",
    "# CHANGE KEYWORD OR DATE HERE\n",
    "# CHANGE KEYWORD OR DATE HERE\n",
    "all_articles = newsapi.get_everything(q='bitcoin',\n",
    "                                      from_param='2021-05-19',\n",
    "                                      to='2021-05-20',\n",
    "                                      language='en')\n",
    "\n",
    "# Print count of articles\n",
    "print(\"Total Articles:\", all_articles['totalResults'])"
   ]
  },
  {
   "cell_type": "code",
   "execution_count": 5,
   "id": "6744ab63",
   "metadata": {},
   "outputs": [
    {
     "name": "stdout",
     "output_type": "stream",
     "text": [
      "Total Articles: 1206\n"
     ]
    }
   ],
   "source": [
    "from newsapi import NewsApiClient\n",
    "import pprint\n",
    "pp = pprint.PrettyPrinter(indent=4)\n",
    "\n",
    "\n",
    "# Initialize API\n",
    "newsapi = NewsApiClient(api_key='KEY_GOES_HERE')\n",
    "\n",
    "\n",
    "# CHANGE KEYWORD OR DATE HERE\n",
    "# CHANGE KEYWORD OR DATE HERE\n",
    "# CHANGE KEYWORD OR DATE HERE\n",
    "all_articles = newsapi.get_everything(q='bitcoin',\n",
    "                                      from_param='2021-05-20',\n",
    "                                      to='2021-05-21',\n",
    "                                      language='en')\n",
    "\n",
    "# Print count of articles\n",
    "print(\"Total Articles:\", all_articles['totalResults'])"
   ]
  },
  {
   "cell_type": "code",
   "execution_count": 4,
   "id": "292982aa",
   "metadata": {},
   "outputs": [
    {
     "name": "stdout",
     "output_type": "stream",
     "text": [
      "Total Articles: 712\n"
     ]
    }
   ],
   "source": [
    "from newsapi import NewsApiClient\n",
    "import pprint\n",
    "pp = pprint.PrettyPrinter(indent=4)\n",
    "\n",
    "\n",
    "# Initialize API\n",
    "newsapi = NewsApiClient(api_key='KEY_GOES_HERE')\n",
    "\n",
    "\n",
    "# CHANGE KEYWORD OR DATE HERE\n",
    "# CHANGE KEYWORD OR DATE HERE\n",
    "# CHANGE KEYWORD OR DATE HERE\n",
    "all_articles = newsapi.get_everything(q='bitcoin',\n",
    "                                      from_param='2021-05-21',\n",
    "                                      to='2021-05-22',\n",
    "                                      language='en')\n",
    "\n",
    "# Print count of articles\n",
    "print(\"Total Articles:\", all_articles['totalResults'])"
   ]
  },
  {
   "cell_type": "code",
   "execution_count": 3,
   "id": "47a7a286",
   "metadata": {},
   "outputs": [
    {
     "name": "stdout",
     "output_type": "stream",
     "text": [
      "Total Articles: 419\n"
     ]
    }
   ],
   "source": [
    "from newsapi import NewsApiClient\n",
    "import pprint\n",
    "pp = pprint.PrettyPrinter(indent=4)\n",
    "\n",
    "\n",
    "# Initialize API\n",
    "newsapi = NewsApiClient(api_key='KEY_GOES_HERE')\n",
    "\n",
    "\n",
    "# CHANGE KEYWORD OR DATE HERE\n",
    "# CHANGE KEYWORD OR DATE HERE\n",
    "# CHANGE KEYWORD OR DATE HERE\n",
    "all_articles = newsapi.get_everything(q='bitcoin',\n",
    "                                      from_param='2021-05-22',\n",
    "                                      to='2021-05-23',\n",
    "                                      language='en')\n",
    "\n",
    "# Print count of articles\n",
    "print(\"Total Articles:\", all_articles['totalResults'])"
   ]
  },
  {
   "cell_type": "code",
   "execution_count": 2,
   "id": "10464d8a",
   "metadata": {},
   "outputs": [
    {
     "name": "stdout",
     "output_type": "stream",
     "text": [
      "Total Articles: 882\n"
     ]
    }
   ],
   "source": [
    "from newsapi import NewsApiClient\n",
    "import pprint\n",
    "pp = pprint.PrettyPrinter(indent=4)\n",
    "\n",
    "\n",
    "# Initialize API\n",
    "newsapi = NewsApiClient(api_key='KEY_GOES_HERE')\n",
    "\n",
    "\n",
    "# CHANGE KEYWORD OR DATE HERE\n",
    "# CHANGE KEYWORD OR DATE HERE\n",
    "# CHANGE KEYWORD OR DATE HERE\n",
    "all_articles = newsapi.get_everything(q='bitcoin',\n",
    "                                      from_param='2021-05-23',\n",
    "                                      to='2021-05-24',\n",
    "                                      language='en')\n",
    "\n",
    "# Print count of articles\n",
    "print(\"Total Articles:\", all_articles['totalResults'])"
   ]
  },
  {
   "cell_type": "code",
   "execution_count": 10,
   "id": "0aab9a68",
   "metadata": {},
   "outputs": [
    {
     "name": "stdout",
     "output_type": "stream",
     "text": [
      "Total Articles: 1192\n"
     ]
    }
   ],
   "source": [
    "from newsapi import NewsApiClient\n",
    "import pprint\n",
    "pp = pprint.PrettyPrinter(indent=4)\n",
    "\n",
    "\n",
    "# Initialize API\n",
    "newsapi = NewsApiClient(api_key='KEY_GOES_HERE')\n",
    "\n",
    "\n",
    "# CHANGE KEYWORD OR DATE HERE\n",
    "# CHANGE KEYWORD OR DATE HERE\n",
    "# CHANGE KEYWORD OR DATE HERE\n",
    "all_articles = newsapi.get_everything(q='bitcoin',\n",
    "                                      from_param='2021-05-24',\n",
    "                                      to='2021-05-25',\n",
    "                                      language='en')\n",
    "\n",
    "# Print count of articles\n",
    "print(\"Total Articles:\", all_articles['totalResults'])"
   ]
  },
  {
   "cell_type": "code",
   "execution_count": 11,
   "id": "f45bc29b",
   "metadata": {},
   "outputs": [
    {
     "name": "stdout",
     "output_type": "stream",
     "text": [
      "Total Articles: 1072\n"
     ]
    }
   ],
   "source": [
    "from newsapi import NewsApiClient\n",
    "import pprint\n",
    "pp = pprint.PrettyPrinter(indent=4)\n",
    "\n",
    "\n",
    "# Initialize API\n",
    "newsapi = NewsApiClient(api_key='KEY_GOES_HERE')\n",
    "\n",
    "\n",
    "# CHANGE KEYWORD OR DATE HERE\n",
    "# CHANGE KEYWORD OR DATE HERE\n",
    "# CHANGE KEYWORD OR DATE HERE\n",
    "all_articles = newsapi.get_everything(q='bitcoin',\n",
    "                                      from_param='2021-05-25',\n",
    "                                      to='2021-05-26',\n",
    "                                      language='en')\n",
    "\n",
    "# Print count of articles\n",
    "print(\"Total Articles:\", all_articles['totalResults'])"
   ]
  },
  {
   "cell_type": "code",
   "execution_count": 1,
   "id": "e04c5ec1",
   "metadata": {},
   "outputs": [
    {
     "name": "stdout",
     "output_type": "stream",
     "text": [
      "Total Articles: 1008\n"
     ]
    }
   ],
   "source": [
    "from newsapi import NewsApiClient\n",
    "import pprint\n",
    "pp = pprint.PrettyPrinter(indent=4)\n",
    "\n",
    "\n",
    "# Initialize API\n",
    "newsapi = NewsApiClient(api_key='KEY_GOES_HERE')\n",
    "\n",
    "\n",
    "# CHANGE KEYWORD OR DATE HERE\n",
    "# CHANGE KEYWORD OR DATE HERE\n",
    "# CHANGE KEYWORD OR DATE HERE\n",
    "all_articles = newsapi.get_everything(q='bitcoin',\n",
    "                                      from_param='2021-05-26',\n",
    "                                      to='2021-05-27',\n",
    "                                      language='en')\n",
    "\n",
    "# Print count of articles\n",
    "print(\"Total Articles:\", all_articles['totalResults'])"
   ]
  },
  {
   "cell_type": "code",
   "execution_count": 2,
   "id": "326689c5",
   "metadata": {},
   "outputs": [
    {
     "name": "stdout",
     "output_type": "stream",
     "text": [
      "Total Articles: 809\n"
     ]
    }
   ],
   "source": [
    "from newsapi import NewsApiClient\n",
    "import pprint\n",
    "pp = pprint.PrettyPrinter(indent=4)\n",
    "\n",
    "\n",
    "# Initialize API\n",
    "newsapi = NewsApiClient(api_key='KEY_GOES_HERE')\n",
    "\n",
    "\n",
    "# CHANGE KEYWORD OR DATE HERE\n",
    "# CHANGE KEYWORD OR DATE HERE\n",
    "# CHANGE KEYWORD OR DATE HERE\n",
    "all_articles = newsapi.get_everything(q='bitcoin',\n",
    "                                      from_param='2021-05-27',\n",
    "                                      to='2021-05-28',\n",
    "                                      language='en')\n",
    "\n",
    "# Print count of articles\n",
    "print(\"Total Articles:\", all_articles['totalResults'])"
   ]
  },
  {
   "cell_type": "code",
   "execution_count": 3,
   "id": "46c43e6c",
   "metadata": {},
   "outputs": [
    {
     "name": "stdout",
     "output_type": "stream",
     "text": [
      "Total Articles: 494\n"
     ]
    }
   ],
   "source": [
    "from newsapi import NewsApiClient\n",
    "import pprint\n",
    "pp = pprint.PrettyPrinter(indent=4)\n",
    "\n",
    "\n",
    "# Initialize API\n",
    "newsapi = NewsApiClient(api_key='KEY_GOES_HERE')\n",
    "\n",
    "\n",
    "# CHANGE KEYWORD OR DATE HERE\n",
    "# CHANGE KEYWORD OR DATE HERE\n",
    "# CHANGE KEYWORD OR DATE HERE\n",
    "all_articles = newsapi.get_everything(q='bitcoin',\n",
    "                                      from_param='2021-05-28',\n",
    "                                      to='2021-05-29',\n",
    "                                      language='en')\n",
    "\n",
    "# Print count of articles\n",
    "print(\"Total Articles:\", all_articles['totalResults'])"
   ]
  },
  {
   "cell_type": "code",
   "execution_count": 6,
   "id": "9429c878",
   "metadata": {},
   "outputs": [
    {
     "name": "stdout",
     "output_type": "stream",
     "text": [
      "Total Articles: 264\n"
     ]
    }
   ],
   "source": [
    "from newsapi import NewsApiClient\n",
    "import pprint\n",
    "pp = pprint.PrettyPrinter(indent=4)\n",
    "\n",
    "\n",
    "# Initialize API\n",
    "newsapi = NewsApiClient(api_key='KEY_GOES_HERE')\n",
    "\n",
    "\n",
    "# CHANGE KEYWORD OR DATE HERE\n",
    "# CHANGE KEYWORD OR DATE HERE\n",
    "# CHANGE KEYWORD OR DATE HERE\n",
    "all_articles = newsapi.get_everything(q='bitcoin',\n",
    "                                      from_param='2021-05-29',\n",
    "                                      to='2021-05-30',\n",
    "                                      language='en')\n",
    "\n",
    "# Print count of articles\n",
    "print(\"Total Articles:\", all_articles['totalResults'])"
   ]
  },
  {
   "cell_type": "code",
   "execution_count": 8,
   "id": "2a1c3550",
   "metadata": {},
   "outputs": [
    {
     "name": "stdout",
     "output_type": "stream",
     "text": [
      "Total Articles: 343\n"
     ]
    }
   ],
   "source": [
    "from newsapi import NewsApiClient\n",
    "import pprint\n",
    "pp = pprint.PrettyPrinter(indent=4)\n",
    "\n",
    "\n",
    "# Initialize API\n",
    "newsapi = NewsApiClient(api_key='KEY_GOES_HERE')\n",
    "\n",
    "\n",
    "# CHANGE KEYWORD OR DATE HERE\n",
    "# CHANGE KEYWORD OR DATE HERE\n",
    "# CHANGE KEYWORD OR DATE HERE\n",
    "all_articles = newsapi.get_everything(q='bitcoin',\n",
    "                                      from_param='2021-05-30',\n",
    "                                      to='2021-05-31',\n",
    "                                      language='en')\n",
    "\n",
    "# Print count of articles\n",
    "print(\"Total Articles:\", all_articles['totalResults'])"
   ]
  },
  {
   "cell_type": "code",
   "execution_count": 1,
   "id": "b7806d42",
   "metadata": {},
   "outputs": [
    {
     "name": "stdout",
     "output_type": "stream",
     "text": [
      "Total Articles: 532\n"
     ]
    }
   ],
   "source": [
    "from newsapi import NewsApiClient\n",
    "import pprint\n",
    "pp = pprint.PrettyPrinter(indent=4)\n",
    "\n",
    "\n",
    "# Initialize API\n",
    "newsapi = NewsApiClient(api_key='KEY_GOES_HERE')\n",
    "\n",
    "\n",
    "# CHANGE KEYWORD OR DATE HERE\n",
    "# CHANGE KEYWORD OR DATE HERE\n",
    "# CHANGE KEYWORD OR DATE HERE\n",
    "all_articles = newsapi.get_everything(q='bitcoin',\n",
    "                                      from_param='2021-05-31',\n",
    "                                      to='2021-06-01',\n",
    "                                      language='en')\n",
    "\n",
    "# Print count of articles\n",
    "print(\"Total Articles:\", all_articles['totalResults'])"
   ]
  },
  {
   "cell_type": "code",
   "execution_count": null,
   "id": "ecf7bd82",
   "metadata": {},
   "outputs": [],
   "source": []
  }
 ],
 "metadata": {
  "kernelspec": {
   "display_name": "Python 3",
   "language": "python",
   "name": "python3"
  },
  "language_info": {
   "codemirror_mode": {
    "name": "ipython",
    "version": 3
   },
   "file_extension": ".py",
   "mimetype": "text/x-python",
   "name": "python",
   "nbconvert_exporter": "python",
   "pygments_lexer": "ipython3",
   "version": "3.9.4"
  }
 },
 "nbformat": 4,
 "nbformat_minor": 5
}
